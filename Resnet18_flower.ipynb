{
  "nbformat": 4,
  "nbformat_minor": 0,
  "metadata": {
    "colab": {
      "provenance": [],
      "gpuType": "T4"
    },
    "kernelspec": {
      "name": "python3",
      "display_name": "Python 3"
    },
    "language_info": {
      "name": "python"
    },
    "accelerator": "GPU"
  },
  "cells": [
    {
      "cell_type": "code",
      "execution_count": 1,
      "metadata": {
        "colab": {
          "base_uri": "https://localhost:8080/",
          "height": 86
        },
        "id": "Z_48OTrqQjlS",
        "outputId": "5d9346b1-712e-4140-e743-2efe0e309a9e"
      },
      "outputs": [
        {
          "output_type": "display_data",
          "data": {
            "text/plain": [
              "<IPython.core.display.HTML object>"
            ],
            "text/html": [
              "\n",
              "     <input type=\"file\" id=\"files-d45a87c3-1ad9-4b08-be43-6d40b6dd1357\" name=\"files[]\" multiple disabled\n",
              "        style=\"border:none\" />\n",
              "     <output id=\"result-d45a87c3-1ad9-4b08-be43-6d40b6dd1357\">\n",
              "      Upload widget is only available when the cell has been executed in the\n",
              "      current browser session. Please rerun this cell to enable.\n",
              "      </output>\n",
              "      <script>// Copyright 2017 Google LLC\n",
              "//\n",
              "// Licensed under the Apache License, Version 2.0 (the \"License\");\n",
              "// you may not use this file except in compliance with the License.\n",
              "// You may obtain a copy of the License at\n",
              "//\n",
              "//      http://www.apache.org/licenses/LICENSE-2.0\n",
              "//\n",
              "// Unless required by applicable law or agreed to in writing, software\n",
              "// distributed under the License is distributed on an \"AS IS\" BASIS,\n",
              "// WITHOUT WARRANTIES OR CONDITIONS OF ANY KIND, either express or implied.\n",
              "// See the License for the specific language governing permissions and\n",
              "// limitations under the License.\n",
              "\n",
              "/**\n",
              " * @fileoverview Helpers for google.colab Python module.\n",
              " */\n",
              "(function(scope) {\n",
              "function span(text, styleAttributes = {}) {\n",
              "  const element = document.createElement('span');\n",
              "  element.textContent = text;\n",
              "  for (const key of Object.keys(styleAttributes)) {\n",
              "    element.style[key] = styleAttributes[key];\n",
              "  }\n",
              "  return element;\n",
              "}\n",
              "\n",
              "// Max number of bytes which will be uploaded at a time.\n",
              "const MAX_PAYLOAD_SIZE = 100 * 1024;\n",
              "\n",
              "function _uploadFiles(inputId, outputId) {\n",
              "  const steps = uploadFilesStep(inputId, outputId);\n",
              "  const outputElement = document.getElementById(outputId);\n",
              "  // Cache steps on the outputElement to make it available for the next call\n",
              "  // to uploadFilesContinue from Python.\n",
              "  outputElement.steps = steps;\n",
              "\n",
              "  return _uploadFilesContinue(outputId);\n",
              "}\n",
              "\n",
              "// This is roughly an async generator (not supported in the browser yet),\n",
              "// where there are multiple asynchronous steps and the Python side is going\n",
              "// to poll for completion of each step.\n",
              "// This uses a Promise to block the python side on completion of each step,\n",
              "// then passes the result of the previous step as the input to the next step.\n",
              "function _uploadFilesContinue(outputId) {\n",
              "  const outputElement = document.getElementById(outputId);\n",
              "  const steps = outputElement.steps;\n",
              "\n",
              "  const next = steps.next(outputElement.lastPromiseValue);\n",
              "  return Promise.resolve(next.value.promise).then((value) => {\n",
              "    // Cache the last promise value to make it available to the next\n",
              "    // step of the generator.\n",
              "    outputElement.lastPromiseValue = value;\n",
              "    return next.value.response;\n",
              "  });\n",
              "}\n",
              "\n",
              "/**\n",
              " * Generator function which is called between each async step of the upload\n",
              " * process.\n",
              " * @param {string} inputId Element ID of the input file picker element.\n",
              " * @param {string} outputId Element ID of the output display.\n",
              " * @return {!Iterable<!Object>} Iterable of next steps.\n",
              " */\n",
              "function* uploadFilesStep(inputId, outputId) {\n",
              "  const inputElement = document.getElementById(inputId);\n",
              "  inputElement.disabled = false;\n",
              "\n",
              "  const outputElement = document.getElementById(outputId);\n",
              "  outputElement.innerHTML = '';\n",
              "\n",
              "  const pickedPromise = new Promise((resolve) => {\n",
              "    inputElement.addEventListener('change', (e) => {\n",
              "      resolve(e.target.files);\n",
              "    });\n",
              "  });\n",
              "\n",
              "  const cancel = document.createElement('button');\n",
              "  inputElement.parentElement.appendChild(cancel);\n",
              "  cancel.textContent = 'Cancel upload';\n",
              "  const cancelPromise = new Promise((resolve) => {\n",
              "    cancel.onclick = () => {\n",
              "      resolve(null);\n",
              "    };\n",
              "  });\n",
              "\n",
              "  // Wait for the user to pick the files.\n",
              "  const files = yield {\n",
              "    promise: Promise.race([pickedPromise, cancelPromise]),\n",
              "    response: {\n",
              "      action: 'starting',\n",
              "    }\n",
              "  };\n",
              "\n",
              "  cancel.remove();\n",
              "\n",
              "  // Disable the input element since further picks are not allowed.\n",
              "  inputElement.disabled = true;\n",
              "\n",
              "  if (!files) {\n",
              "    return {\n",
              "      response: {\n",
              "        action: 'complete',\n",
              "      }\n",
              "    };\n",
              "  }\n",
              "\n",
              "  for (const file of files) {\n",
              "    const li = document.createElement('li');\n",
              "    li.append(span(file.name, {fontWeight: 'bold'}));\n",
              "    li.append(span(\n",
              "        `(${file.type || 'n/a'}) - ${file.size} bytes, ` +\n",
              "        `last modified: ${\n",
              "            file.lastModifiedDate ? file.lastModifiedDate.toLocaleDateString() :\n",
              "                                    'n/a'} - `));\n",
              "    const percent = span('0% done');\n",
              "    li.appendChild(percent);\n",
              "\n",
              "    outputElement.appendChild(li);\n",
              "\n",
              "    const fileDataPromise = new Promise((resolve) => {\n",
              "      const reader = new FileReader();\n",
              "      reader.onload = (e) => {\n",
              "        resolve(e.target.result);\n",
              "      };\n",
              "      reader.readAsArrayBuffer(file);\n",
              "    });\n",
              "    // Wait for the data to be ready.\n",
              "    let fileData = yield {\n",
              "      promise: fileDataPromise,\n",
              "      response: {\n",
              "        action: 'continue',\n",
              "      }\n",
              "    };\n",
              "\n",
              "    // Use a chunked sending to avoid message size limits. See b/62115660.\n",
              "    let position = 0;\n",
              "    do {\n",
              "      const length = Math.min(fileData.byteLength - position, MAX_PAYLOAD_SIZE);\n",
              "      const chunk = new Uint8Array(fileData, position, length);\n",
              "      position += length;\n",
              "\n",
              "      const base64 = btoa(String.fromCharCode.apply(null, chunk));\n",
              "      yield {\n",
              "        response: {\n",
              "          action: 'append',\n",
              "          file: file.name,\n",
              "          data: base64,\n",
              "        },\n",
              "      };\n",
              "\n",
              "      let percentDone = fileData.byteLength === 0 ?\n",
              "          100 :\n",
              "          Math.round((position / fileData.byteLength) * 100);\n",
              "      percent.textContent = `${percentDone}% done`;\n",
              "\n",
              "    } while (position < fileData.byteLength);\n",
              "  }\n",
              "\n",
              "  // All done.\n",
              "  yield {\n",
              "    response: {\n",
              "      action: 'complete',\n",
              "    }\n",
              "  };\n",
              "}\n",
              "\n",
              "scope.google = scope.google || {};\n",
              "scope.google.colab = scope.google.colab || {};\n",
              "scope.google.colab._files = {\n",
              "  _uploadFiles,\n",
              "  _uploadFilesContinue,\n",
              "};\n",
              "})(self);\n",
              "</script> "
            ]
          },
          "metadata": {}
        },
        {
          "output_type": "stream",
          "name": "stdout",
          "text": [
            "Saving kaggle.json to kaggle.json\n"
          ]
        },
        {
          "output_type": "execute_result",
          "data": {
            "text/plain": [
              "{'kaggle.json': b'{\"username\":\"tony1241\",\"key\":\"5585cbdbeeb5bf8cc2b8d49b6bd8e599\"}'}"
            ]
          },
          "metadata": {},
          "execution_count": 1
        }
      ],
      "source": [
        "# If you're on Google Colab, you can upload your kaggle.json file using the following code\n",
        "from google.colab import files\n",
        "files.upload()  # Choose kaggle.json to upload\n"
      ]
    },
    {
      "cell_type": "code",
      "source": [
        "!mkdir -p ~/.kaggle\n",
        "!mv kaggle.json ~/.kaggle/\n",
        "!chmod 600 ~/.kaggle/kaggle.json\n"
      ],
      "metadata": {
        "id": "u4jv_SVfRopS"
      },
      "execution_count": 2,
      "outputs": []
    },
    {
      "cell_type": "code",
      "source": [
        "!pip install kaggle\n"
      ],
      "metadata": {
        "colab": {
          "base_uri": "https://localhost:8080/"
        },
        "id": "S9GRv2JPRrYl",
        "outputId": "07ad5f16-5813-4b01-b0c1-a77b78691bb7"
      },
      "execution_count": 3,
      "outputs": [
        {
          "output_type": "stream",
          "name": "stdout",
          "text": [
            "Requirement already satisfied: kaggle in /usr/local/lib/python3.10/dist-packages (1.6.17)\n",
            "Requirement already satisfied: six>=1.10 in /usr/local/lib/python3.10/dist-packages (from kaggle) (1.16.0)\n",
            "Requirement already satisfied: certifi>=2023.7.22 in /usr/local/lib/python3.10/dist-packages (from kaggle) (2024.8.30)\n",
            "Requirement already satisfied: python-dateutil in /usr/local/lib/python3.10/dist-packages (from kaggle) (2.8.2)\n",
            "Requirement already satisfied: requests in /usr/local/lib/python3.10/dist-packages (from kaggle) (2.32.3)\n",
            "Requirement already satisfied: tqdm in /usr/local/lib/python3.10/dist-packages (from kaggle) (4.66.6)\n",
            "Requirement already satisfied: python-slugify in /usr/local/lib/python3.10/dist-packages (from kaggle) (8.0.4)\n",
            "Requirement already satisfied: urllib3 in /usr/local/lib/python3.10/dist-packages (from kaggle) (2.2.3)\n",
            "Requirement already satisfied: bleach in /usr/local/lib/python3.10/dist-packages (from kaggle) (6.2.0)\n",
            "Requirement already satisfied: webencodings in /usr/local/lib/python3.10/dist-packages (from bleach->kaggle) (0.5.1)\n",
            "Requirement already satisfied: text-unidecode>=1.3 in /usr/local/lib/python3.10/dist-packages (from python-slugify->kaggle) (1.3)\n",
            "Requirement already satisfied: charset-normalizer<4,>=2 in /usr/local/lib/python3.10/dist-packages (from requests->kaggle) (3.4.0)\n",
            "Requirement already satisfied: idna<4,>=2.5 in /usr/local/lib/python3.10/dist-packages (from requests->kaggle) (3.10)\n"
          ]
        }
      ]
    },
    {
      "cell_type": "code",
      "source": [
        "# Replace 'nunenuh/pytorch-challange-flower-dataset' with the correct dataset path from Kaggle\n",
        "!kaggle datasets download -d nunenuh/pytorch-challange-flower-dataset\n"
      ],
      "metadata": {
        "colab": {
          "base_uri": "https://localhost:8080/"
        },
        "id": "vlQp1EbjRtkF",
        "outputId": "3492dc94-daa0-4b1a-bd43-5c3235d435fb"
      },
      "execution_count": 4,
      "outputs": [
        {
          "output_type": "stream",
          "name": "stdout",
          "text": [
            "Dataset URL: https://www.kaggle.com/datasets/nunenuh/pytorch-challange-flower-dataset\n",
            "License(s): CC0-1.0\n",
            "Downloading pytorch-challange-flower-dataset.zip to /content\n",
            "100% 330M/330M [00:03<00:00, 135MB/s]\n",
            "100% 330M/330M [00:03<00:00, 104MB/s]\n"
          ]
        }
      ]
    },
    {
      "cell_type": "code",
      "source": [
        "import zipfile\n",
        "with zipfile.ZipFile(\"pytorch-challange-flower-dataset.zip\", 'r') as zip_ref:\n",
        "    zip_ref.extractall(\"flower_data\")\n"
      ],
      "metadata": {
        "id": "i2xl_FFnR8VK"
      },
      "execution_count": 5,
      "outputs": []
    },
    {
      "cell_type": "code",
      "source": [
        "import torch\n",
        "import torch.nn as nn\n",
        "import torch.optim as optim\n",
        "from torchvision import datasets, transforms, models\n",
        "from torch.utils.data import DataLoader\n",
        "import matplotlib.pyplot as plt\n"
      ],
      "metadata": {
        "id": "Ms4ZPgdcSCZK"
      },
      "execution_count": 6,
      "outputs": []
    },
    {
      "cell_type": "code",
      "source": [
        "import zipfile\n",
        "with zipfile.ZipFile(\"pytorch-challange-flower-dataset.zip\", 'r') as zip_ref:\n",
        "    zip_ref.extractall(\"flower_data\")\n"
      ],
      "metadata": {
        "id": "99pPun6WTfTC"
      },
      "execution_count": 7,
      "outputs": []
    },
    {
      "cell_type": "code",
      "source": [
        "# Data transformations for training and validation\n",
        "data_transforms = {\n",
        "    'train': transforms.Compose([\n",
        "        transforms.RandomResizedCrop(224),\n",
        "        transforms.RandomHorizontalFlip(),\n",
        "        transforms.ToTensor(),\n",
        "        transforms.Normalize([0.485, 0.456, 0.406], [0.229, 0.224, 0.225])\n",
        "    ]),\n",
        "    'val': transforms.Compose([\n",
        "        transforms.Resize(256),\n",
        "        transforms.CenterCrop(224),\n",
        "        transforms.ToTensor(),\n",
        "        transforms.Normalize([0.485, 0.456, 0.406], [0.229, 0.224, 0.225])\n",
        "    ]),\n",
        "}\n",
        "\n",
        "# Load data\n",
        "data_dir = 'flower_data'\n",
        "image_datasets = {x: datasets.ImageFolder(root=f'{data_dir}/{x}', transform=data_transforms[x]) for x in ['train', 'val']}\n",
        "dataloaders = {x: DataLoader(image_datasets[x], batch_size=32, shuffle=True) for x in ['train', 'val']}\n",
        "dataset_sizes = {x: len(image_datasets[x]) for x in ['train', 'val']}\n",
        "class_names = image_datasets['train'].classes\n"
      ],
      "metadata": {
        "id": "XSnhNTVBSOKk"
      },
      "execution_count": 8,
      "outputs": []
    },
    {
      "cell_type": "code",
      "source": [
        "# Load a pretrained ResNet model\n",
        "model = models.resnet18(pretrained=True)\n",
        "# Replace the final layer\n",
        "num_ftrs = model.fc.in_features\n",
        "model.fc = nn.Linear(num_ftrs, len(class_names))\n",
        "model = model.to('cuda' if torch.cuda.is_available() else 'cpu')\n"
      ],
      "metadata": {
        "colab": {
          "base_uri": "https://localhost:8080/"
        },
        "id": "VdiQsUAdUlPG",
        "outputId": "ac9d2490-2b9d-426a-830c-b66bdfed0481"
      },
      "execution_count": 9,
      "outputs": [
        {
          "output_type": "stream",
          "name": "stderr",
          "text": [
            "/usr/local/lib/python3.10/dist-packages/torchvision/models/_utils.py:208: UserWarning: The parameter 'pretrained' is deprecated since 0.13 and may be removed in the future, please use 'weights' instead.\n",
            "  warnings.warn(\n",
            "/usr/local/lib/python3.10/dist-packages/torchvision/models/_utils.py:223: UserWarning: Arguments other than a weight enum or `None` for 'weights' are deprecated since 0.13 and may be removed in the future. The current behavior is equivalent to passing `weights=ResNet18_Weights.IMAGENET1K_V1`. You can also use `weights=ResNet18_Weights.DEFAULT` to get the most up-to-date weights.\n",
            "  warnings.warn(msg)\n",
            "Downloading: \"https://download.pytorch.org/models/resnet18-f37072fd.pth\" to /root/.cache/torch/hub/checkpoints/resnet18-f37072fd.pth\n",
            "100%|██████████| 44.7M/44.7M [00:00<00:00, 109MB/s]\n"
          ]
        }
      ]
    },
    {
      "cell_type": "code",
      "source": [
        "criterion = nn.CrossEntropyLoss()\n",
        "optimizer = optim.SGD(model.parameters(), lr=0.001, momentum=0.9)\n",
        "scheduler = optim.lr_scheduler.StepLR(optimizer, step_size=7, gamma=0.1)\n"
      ],
      "metadata": {
        "id": "iLNCzP1GUq41"
      },
      "execution_count": 10,
      "outputs": []
    },
    {
      "cell_type": "code",
      "source": [
        "# Validation accuracy\n",
        "model.eval()\n",
        "correct = 0\n",
        "total = 0\n",
        "\n",
        "with torch.no_grad():\n",
        "    for inputs, labels in dataloaders['val']:\n",
        "        inputs = inputs.to('cuda' if torch.cuda.is_available() else 'cpu')\n",
        "        labels = labels.to('cuda' if torch.cuda.is_available() else 'cpu')\n",
        "        outputs = model(inputs)\n",
        "        _, predicted = torch.max(outputs, 1)\n",
        "        total += labels.size(0)\n",
        "        correct += (predicted == labels).sum().item()\n",
        "\n",
        "accuracy = correct / total\n",
        "print(f'Validation Accuracy: {accuracy * 100:.2f}%')\n"
      ],
      "metadata": {
        "id": "5YMVQQsX3cAp",
        "colab": {
          "base_uri": "https://localhost:8080/"
        },
        "outputId": "bfff47e2-90a4-4bd0-eedd-58e7a5278e91"
      },
      "execution_count": 14,
      "outputs": [
        {
          "output_type": "stream",
          "name": "stdout",
          "text": [
            "Validation Accuracy: 96.45%\n"
          ]
        }
      ]
    },
    {
      "cell_type": "code",
      "source": [
        "def train_model(model, criterion, optimizer, scheduler, num_epochs=25):\n",
        "    best_model_wts = model.state_dict()\n",
        "    best_acc = 0.0\n",
        "    train_acc = []\n",
        "    val_acc = []\n",
        "    train_loss = []\n",
        "    val_loss = []\n",
        "\n",
        "    for epoch in range(num_epochs):\n",
        "        print(f'Epoch {epoch}/{num_epochs - 1}')\n",
        "        print('-' * 10)\n",
        "\n",
        "        for phase in ['train', 'val']:\n",
        "            if phase == 'train':\n",
        "                model.train()\n",
        "            else:\n",
        "                model.eval()\n",
        "\n",
        "            running_loss = 0.0\n",
        "            running_corrects = 0\n",
        "\n",
        "            for inputs, labels in dataloaders[phase]:\n",
        "                inputs = inputs.to('cuda' if torch.cuda.is_available() else 'cpu')\n",
        "                labels = labels.to('cuda' if torch.cuda.is_available() else 'cpu')\n",
        "\n",
        "                optimizer.zero_grad()\n",
        "\n",
        "                with torch.set_grad_enabled(phase == 'train'):\n",
        "                    outputs = model(inputs)\n",
        "                    _, preds = torch.max(outputs, 1)\n",
        "                    loss = criterion(outputs, labels)\n",
        "\n",
        "                    if phase == 'train':\n",
        "                        loss.backward()\n",
        "                        optimizer.step()\n",
        "\n",
        "                running_loss += loss.item() * inputs.size(0)\n",
        "                running_corrects += torch.sum(preds == labels.data)\n",
        "\n",
        "            epoch_loss = running_loss / dataset_sizes[phase]\n",
        "            epoch_acc = running_corrects.double() / dataset_sizes[phase]\n",
        "\n",
        "            if phase == 'train':\n",
        "                scheduler.step()\n",
        "                train_loss.append(epoch_loss)\n",
        "                train_acc.append(epoch_acc.item())\n",
        "            else:\n",
        "                val_loss.append(epoch_loss)\n",
        "                val_acc.append(epoch_acc.item())\n",
        "\n",
        "            print(f'{phase} Loss: {epoch_loss:.4f} Acc: {epoch_acc:.4f}')\n",
        "\n",
        "            if phase == 'val' and epoch_acc > best_acc:\n",
        "                best_acc = epoch_acc\n",
        "                best_model_wts = model.state_dict()\n",
        "\n",
        "    model.load_state_dict(best_model_wts)\n",
        "    return model, train_loss, val_loss, train_acc, val_acc\n"
      ],
      "metadata": {
        "id": "89szox-cBCXt"
      },
      "execution_count": 16,
      "outputs": []
    },
    {
      "cell_type": "code",
      "source": [
        "model, train_loss, val_loss, train_acc, val_acc = train_model(model, criterion, optimizer, scheduler, num_epochs=25)\n"
      ],
      "metadata": {
        "colab": {
          "base_uri": "https://localhost:8080/"
        },
        "id": "N1QrLN-JBDgh",
        "outputId": "ec1b19d6-f55f-4c99-94b0-568e02717b90"
      },
      "execution_count": 17,
      "outputs": [
        {
          "output_type": "stream",
          "name": "stdout",
          "text": [
            "Epoch 0/24\n",
            "----------\n",
            "train Loss: 0.3416 Acc: 0.9367\n",
            "val Loss: 0.1789 Acc: 0.9633\n",
            "Epoch 1/24\n",
            "----------\n",
            "train Loss: 0.3365 Acc: 0.9400\n",
            "val Loss: 0.1827 Acc: 0.9707\n",
            "Epoch 2/24\n",
            "----------\n",
            "train Loss: 0.3428 Acc: 0.9362\n",
            "val Loss: 0.1789 Acc: 0.9707\n",
            "Epoch 3/24\n",
            "----------\n",
            "train Loss: 0.3467 Acc: 0.9382\n",
            "val Loss: 0.1795 Acc: 0.9682\n",
            "Epoch 4/24\n",
            "----------\n",
            "train Loss: 0.3428 Acc: 0.9365\n",
            "val Loss: 0.1818 Acc: 0.9694\n",
            "Epoch 5/24\n",
            "----------\n",
            "train Loss: 0.3629 Acc: 0.9347\n",
            "val Loss: 0.1799 Acc: 0.9682\n",
            "Epoch 6/24\n",
            "----------\n",
            "train Loss: 0.3536 Acc: 0.9362\n",
            "val Loss: 0.1779 Acc: 0.9719\n",
            "Epoch 7/24\n",
            "----------\n",
            "train Loss: 0.3496 Acc: 0.9368\n",
            "val Loss: 0.1775 Acc: 0.9670\n",
            "Epoch 8/24\n",
            "----------\n",
            "train Loss: 0.3598 Acc: 0.9338\n",
            "val Loss: 0.1812 Acc: 0.9731\n",
            "Epoch 9/24\n",
            "----------\n",
            "train Loss: 0.3445 Acc: 0.9359\n",
            "val Loss: 0.1823 Acc: 0.9719\n",
            "Epoch 10/24\n",
            "----------\n",
            "train Loss: 0.3538 Acc: 0.9353\n",
            "val Loss: 0.1833 Acc: 0.9719\n",
            "Epoch 11/24\n",
            "----------\n",
            "train Loss: 0.3368 Acc: 0.9405\n",
            "val Loss: 0.1807 Acc: 0.9707\n",
            "Epoch 12/24\n",
            "----------\n",
            "train Loss: 0.3411 Acc: 0.9351\n",
            "val Loss: 0.1812 Acc: 0.9694\n",
            "Epoch 13/24\n",
            "----------\n",
            "train Loss: 0.3373 Acc: 0.9393\n",
            "val Loss: 0.1815 Acc: 0.9743\n",
            "Epoch 14/24\n",
            "----------\n",
            "train Loss: 0.3402 Acc: 0.9412\n",
            "val Loss: 0.1837 Acc: 0.9719\n",
            "Epoch 15/24\n",
            "----------\n",
            "train Loss: 0.3410 Acc: 0.9396\n",
            "val Loss: 0.1801 Acc: 0.9670\n",
            "Epoch 16/24\n",
            "----------\n",
            "train Loss: 0.3456 Acc: 0.9359\n",
            "val Loss: 0.1788 Acc: 0.9682\n",
            "Epoch 17/24\n",
            "----------\n",
            "train Loss: 0.3488 Acc: 0.9393\n",
            "val Loss: 0.1819 Acc: 0.9707\n",
            "Epoch 18/24\n",
            "----------\n",
            "train Loss: 0.3399 Acc: 0.9380\n",
            "val Loss: 0.1821 Acc: 0.9670\n",
            "Epoch 19/24\n",
            "----------\n",
            "train Loss: 0.3496 Acc: 0.9347\n",
            "val Loss: 0.1790 Acc: 0.9719\n",
            "Epoch 20/24\n",
            "----------\n",
            "train Loss: 0.3625 Acc: 0.9321\n",
            "val Loss: 0.1802 Acc: 0.9694\n",
            "Epoch 21/24\n",
            "----------\n",
            "train Loss: 0.3535 Acc: 0.9359\n",
            "val Loss: 0.1821 Acc: 0.9682\n",
            "Epoch 22/24\n",
            "----------\n",
            "train Loss: 0.3411 Acc: 0.9357\n",
            "val Loss: 0.1805 Acc: 0.9682\n",
            "Epoch 23/24\n",
            "----------\n",
            "train Loss: 0.3512 Acc: 0.9370\n",
            "val Loss: 0.1780 Acc: 0.9694\n",
            "Epoch 24/24\n",
            "----------\n",
            "train Loss: 0.3382 Acc: 0.9393\n",
            "val Loss: 0.1805 Acc: 0.9658\n"
          ]
        }
      ]
    },
    {
      "cell_type": "code",
      "source": [
        "# Plot accuracy\n",
        "plt.plot(train_acc, label='Training Accuracy')\n",
        "plt.plot(val_acc, label='Validation Accuracy')\n",
        "plt.xlabel('Epochs')\n",
        "plt.ylabel('Accuracy')\n",
        "plt.legend()\n",
        "plt.show()\n",
        "\n",
        "# Plot loss\n",
        "plt.plot(train_loss, label='Training Loss')\n",
        "plt.plot(val_loss, label='Validation Loss')\n",
        "plt.xlabel('Epochs')\n",
        "plt.ylabel('Loss')\n",
        "plt.legend()\n",
        "plt.show()\n"
      ],
      "metadata": {
        "colab": {
          "base_uri": "https://localhost:8080/",
          "height": 881
        },
        "id": "FIzRN58nGfxB",
        "outputId": "7fb92253-332b-4290-f840-182a83a19762"
      },
      "execution_count": 18,
      "outputs": [
        {
          "output_type": "display_data",
          "data": {
            "text/plain": [
              "<Figure size 640x480 with 1 Axes>"
            ],
            "image/png": "[encoded data removed]"
          },
          "metadata": {}
        },
        {
          "output_type": "display_data",
          "data": {
            "text/plain": [
              "<Figure size 640x480 with 1 Axes>"
            ],
            "image/png": "[encoded data removed]"
          },
          "metadata": {}
        }
      ]
    },
    {
      "cell_type": "code",
      "source": [
        "# Validation accuracy\n",
        "model.eval()\n",
        "correct = 0\n",
        "total = 0\n",
        "\n",
        "with torch.no_grad():\n",
        "    for inputs, labels in dataloaders['val']:\n",
        "        inputs = inputs.to('cuda' if torch.cuda.is_available() else 'cpu')\n",
        "        labels = labels.to('cuda' if torch.cuda.is_available() else 'cpu')\n",
        "        outputs = model(inputs)\n",
        "        _, predicted = torch.max(outputs, 1)\n",
        "        total += labels.size(0)\n",
        "        correct += (predicted == labels).sum().item()\n",
        "\n",
        "accuracy = correct / total\n",
        "print(f'Validation Accuracy: {accuracy * 100:.2f}%')"
      ],
      "metadata": {
        "colab": {
          "base_uri": "https://localhost:8080/"
        },
        "id": "ingLHGlVGwmQ",
        "outputId": "5256e49d-f5ff-460b-c4a0-8874ec29bd68"
      },
      "execution_count": 21,
      "outputs": [
        {
          "output_type": "stream",
          "name": "stdout",
          "text": [
            "Validation Accuracy: 97.31%\n"
          ]
        }
      ]
    },
    {
      "cell_type": "code",
      "source": [
        "print(f\"  Training   - Loss: {train_loss[epoch]:.4f}, Accuracy: {train_acc[epoch]:.4f}\")\n",
        "print(f\"  Validation - Loss: {val_loss[epoch]:.4f}, Accuracy: {val_acc[epoch]:.4f}\")\n"
      ],
      "metadata": {
        "colab": {
          "base_uri": "https://localhost:8080/"
        },
        "id": "1mhb1eoJHS0p",
        "outputId": "6f732711-87f8-470c-d087-e78040ac3b72"
      },
      "execution_count": 25,
      "outputs": [
        {
          "output_type": "stream",
          "name": "stdout",
          "text": [
            "  Training   - Loss: 0.3382, Accuracy: 0.9393\n",
            "  Validation - Loss: 0.1805, Accuracy: 0.9658\n"
          ]
        }
      ]
    },
    {
      "cell_type": "code",
      "source": [
        "import pandas as pd\n",
        "\n",
        "\n",
        "# Create a DataFrame with epoch-wise results\n",
        "results_df = pd.DataFrame({\n",
        "    'Epoch': range(1, len(train_loss) + 1),\n",
        "    'Training Loss': train_loss,\n",
        "    'Validation Loss': val_loss,\n",
        "    'Training Accuracy': train_acc,\n",
        "    'Validation Accuracy': val_acc\n",
        "})\n",
        "\n",
        "# Save DataFrame to CSV\n",
        "results_df.to_csv('training_results.csv', index=False)\n",
        "\n",
        "print(\"Training results saved to training_results.csv\")\n"
      ],
      "metadata": {
        "colab": {
          "base_uri": "https://localhost:8080/"
        },
        "id": "h9UwiIHRHvLf",
        "outputId": "2c73c204-c313-4f24-dff4-59665f3b7590"
      },
      "execution_count": 26,
      "outputs": [
        {
          "output_type": "stream",
          "name": "stdout",
          "text": [
            "Training results saved to training_results.csv\n"
          ]
        }
      ]
    },
    {
      "cell_type": "code",
      "source": [
        "!pip install scikit-learn\n"
      ],
      "metadata": {
        "colab": {
          "base_uri": "https://localhost:8080/"
        },
        "id": "n6a0W03JH5y5",
        "outputId": "f5bb647e-a158-4d4b-9e44-243f658d5b82"
      },
      "execution_count": 27,
      "outputs": [
        {
          "output_type": "stream",
          "name": "stdout",
          "text": [
            "Requirement already satisfied: scikit-learn in /usr/local/lib/python3.10/dist-packages (1.5.2)\n",
            "Requirement already satisfied: numpy>=1.19.5 in /usr/local/lib/python3.10/dist-packages (from scikit-learn) (1.26.4)\n",
            "Requirement already satisfied: scipy>=1.6.0 in /usr/local/lib/python3.10/dist-packages (from scikit-learn) (1.13.1)\n",
            "Requirement already satisfied: joblib>=1.2.0 in /usr/local/lib/python3.10/dist-packages (from scikit-learn) (1.4.2)\n",
            "Requirement already satisfied: threadpoolctl>=3.1.0 in /usr/local/lib/python3.10/dist-packages (from scikit-learn) (3.5.0)\n"
          ]
        }
      ]
    },
    {
      "cell_type": "code",
      "source": [
        "from sklearn.metrics import precision_score, recall_score, f1_score\n",
        "\n",
        "def train_model(model, criterion, optimizer, scheduler, num_epochs=25):\n",
        "    best_model_wts = model.state_dict()\n",
        "    best_acc = 0.0\n",
        "    train_loss, val_loss = [], []\n",
        "    train_acc, val_acc = [], []\n",
        "    train_precision, train_recall, train_f1 = [], [], []\n",
        "    val_precision, val_recall, val_f1 = [], [], []\n",
        "\n",
        "    for epoch in range(num_epochs):\n",
        "        print(f'\\nEpoch {epoch + 1}/{num_epochs}')\n",
        "        print('-' * 30)\n",
        "\n",
        "        for phase in ['train', 'val']:\n",
        "            if phase == 'train':\n",
        "                model.train()\n",
        "            else:\n",
        "                model.eval()\n",
        "\n",
        "            running_loss = 0.0\n",
        "            running_corrects = 0\n",
        "            all_labels = []\n",
        "            all_preds = []\n",
        "\n",
        "            for inputs, labels in dataloaders[phase]:\n",
        "                inputs = inputs.to('cuda' if torch.cuda.is_available() else 'cpu')\n",
        "                labels = labels.to('cuda' if torch.cuda.is_available() else 'cpu')\n",
        "\n",
        "                optimizer.zero_grad()\n",
        "\n",
        "                with torch.set_grad_enabled(phase == 'train'):\n",
        "                    outputs = model(inputs)\n",
        "                    _, preds = torch.max(outputs, 1)\n",
        "                    loss = criterion(outputs, labels)\n",
        "\n",
        "                    if phase == 'train':\n",
        "                        loss.backward()\n",
        "                        optimizer.step()\n",
        "\n",
        "                running_loss += loss.item() * inputs.size(0)\n",
        "                running_corrects += torch.sum(preds == labels.data)\n",
        "                all_labels.extend(labels.cpu().numpy())\n",
        "                all_preds.extend(preds.cpu().numpy())\n",
        "\n",
        "            epoch_loss = running_loss / dataset_sizes[phase]\n",
        "            epoch_acc = running_corrects.double() / dataset_sizes[phase]\n",
        "\n",
        "            if phase == 'train':\n",
        "                scheduler.step()\n",
        "                train_loss.append(epoch_loss)\n",
        "                train_acc.append(epoch_acc.item())\n",
        "            else:\n",
        "                val_loss.append(epoch_loss)\n",
        "                val_acc.append(epoch_acc.item())\n",
        "\n",
        "            # Calculate precision, recall, and F1-score\n",
        "            precision = precision_score(all_labels, all_preds, average='macro')\n",
        "            recall = recall_score(all_labels, all_preds, average='macro')\n",
        "            f1 = f1_score(all_labels, all_preds, average='macro')\n",
        "\n",
        "            if phase == 'train':\n",
        "                train_precision.append(precision)\n",
        "                train_recall.append(recall)\n",
        "                train_f1.append(f1)\n",
        "            else:\n",
        "                val_precision.append(precision)\n",
        "                val_recall.append(recall)\n",
        "                val_f1.append(f1)\n",
        "\n",
        "            print(f'{phase.capitalize()} - Loss: {epoch_loss:.4f}, Accuracy: {epoch_acc:.4f}, '\n",
        "                  f'Precision: {precision:.4f}, Recall: {recall:.4f}, F1-score: {f1:.4f}')\n",
        "\n",
        "            if phase == 'val' and epoch_acc > best_acc:\n",
        "                best_acc = epoch_acc\n",
        "                best_model_wts = model.state_dict()\n",
        "\n",
        "    model.load_state_dict(best_model_wts)\n",
        "    return model, train_loss, val_loss, train_acc, val_acc, train_precision, train_recall, train_f1, val_precision, val_recall, val_f1\n"
      ],
      "metadata": {
        "id": "pqE3aKLKIIlP"
      },
      "execution_count": 28,
      "outputs": []
    },
    {
      "cell_type": "code",
      "source": [
        "model, train_loss, val_loss, train_acc, val_acc, train_precision, train_recall, train_f1, val_precision, val_recall, val_f1 = train_model(model, criterion, optimizer, scheduler, num_epochs=25)\n"
      ],
      "metadata": {
        "colab": {
          "base_uri": "https://localhost:8080/"
        },
        "id": "cayr7tFaISzc",
        "outputId": "60907f5b-0402-4bf1-9a69-71cfcd274a22"
      },
      "execution_count": 30,
      "outputs": [
        {
          "output_type": "stream",
          "name": "stdout",
          "text": [
            "\n",
            "Epoch 1/25\n",
            "------------------------------\n",
            "Train - Loss: 0.3463, Accuracy: 0.9379, Precision: 0.9389, Recall: 0.9287, F1-score: 0.9329\n",
            "Val - Loss: 0.1806, Accuracy: 0.9707, Precision: 0.9615, Recall: 0.9661, F1-score: 0.9588\n",
            "\n",
            "Epoch 2/25\n",
            "------------------------------\n",
            "Train - Loss: 0.3557, Accuracy: 0.9357, Precision: 0.9356, Recall: 0.9263, F1-score: 0.9299\n",
            "Val - Loss: 0.1812, Accuracy: 0.9707, Precision: 0.9557, Recall: 0.9683, F1-score: 0.9571\n",
            "\n",
            "Epoch 3/25\n",
            "------------------------------\n",
            "Train - Loss: 0.3421, Accuracy: 0.9389, Precision: 0.9406, Recall: 0.9301, F1-score: 0.9341\n",
            "Val - Loss: 0.1810, Accuracy: 0.9694, Precision: 0.9560, Recall: 0.9642, F1-score: 0.9535\n",
            "\n",
            "Epoch 4/25\n",
            "------------------------------\n",
            "Train - Loss: 0.3400, Accuracy: 0.9356, Precision: 0.9378, Recall: 0.9272, F1-score: 0.9315\n",
            "Val - Loss: 0.1796, Accuracy: 0.9719, Precision: 0.9620, Recall: 0.9705, F1-score: 0.9606\n",
            "\n",
            "Epoch 5/25\n",
            "------------------------------\n",
            "Train - Loss: 0.3460, Accuracy: 0.9389, Precision: 0.9397, Recall: 0.9309, F1-score: 0.9344\n",
            "Val - Loss: 0.1810, Accuracy: 0.9670, Precision: 0.9505, Recall: 0.9620, F1-score: 0.9500\n",
            "\n",
            "Epoch 6/25\n",
            "------------------------------\n",
            "Train - Loss: 0.3495, Accuracy: 0.9364, Precision: 0.9373, Recall: 0.9263, F1-score: 0.9307\n",
            "Val - Loss: 0.1796, Accuracy: 0.9682, Precision: 0.9580, Recall: 0.9633, F1-score: 0.9552\n",
            "\n",
            "Epoch 7/25\n",
            "------------------------------\n",
            "Train - Loss: 0.3595, Accuracy: 0.9324, Precision: 0.9330, Recall: 0.9213, F1-score: 0.9260\n",
            "Val - Loss: 0.1807, Accuracy: 0.9694, Precision: 0.9552, Recall: 0.9644, F1-score: 0.9536\n",
            "\n",
            "Epoch 8/25\n",
            "------------------------------\n",
            "Train - Loss: 0.3467, Accuracy: 0.9353, Precision: 0.9390, Recall: 0.9289, F1-score: 0.9330\n",
            "Val - Loss: 0.1799, Accuracy: 0.9670, Precision: 0.9543, Recall: 0.9626, F1-score: 0.9524\n",
            "\n",
            "Epoch 9/25\n",
            "------------------------------\n",
            "Train - Loss: 0.3439, Accuracy: 0.9379, Precision: 0.9386, Recall: 0.9270, F1-score: 0.9318\n",
            "Val - Loss: 0.1808, Accuracy: 0.9682, Precision: 0.9568, Recall: 0.9646, F1-score: 0.9561\n",
            "\n",
            "Epoch 10/25\n",
            "------------------------------\n",
            "Train - Loss: 0.3513, Accuracy: 0.9385, Precision: 0.9388, Recall: 0.9321, F1-score: 0.9348\n",
            "Val - Loss: 0.1805, Accuracy: 0.9670, Precision: 0.9569, Recall: 0.9617, F1-score: 0.9536\n",
            "\n",
            "Epoch 11/25\n",
            "------------------------------\n",
            "Train - Loss: 0.3344, Accuracy: 0.9411, Precision: 0.9393, Recall: 0.9302, F1-score: 0.9338\n",
            "Val - Loss: 0.1833, Accuracy: 0.9670, Precision: 0.9534, Recall: 0.9613, F1-score: 0.9508\n",
            "\n",
            "Epoch 12/25\n",
            "------------------------------\n",
            "Train - Loss: 0.3488, Accuracy: 0.9368, Precision: 0.9373, Recall: 0.9290, F1-score: 0.9324\n",
            "Val - Loss: 0.1801, Accuracy: 0.9707, Precision: 0.9603, Recall: 0.9652, F1-score: 0.9579\n",
            "\n",
            "Epoch 13/25\n",
            "------------------------------\n",
            "Train - Loss: 0.3503, Accuracy: 0.9348, Precision: 0.9323, Recall: 0.9245, F1-score: 0.9275\n",
            "Val - Loss: 0.1832, Accuracy: 0.9707, Precision: 0.9551, Recall: 0.9648, F1-score: 0.9549\n",
            "\n",
            "Epoch 14/25\n",
            "------------------------------\n",
            "Train - Loss: 0.3504, Accuracy: 0.9342, Precision: 0.9375, Recall: 0.9254, F1-score: 0.9303\n",
            "Val - Loss: 0.1812, Accuracy: 0.9682, Precision: 0.9537, Recall: 0.9622, F1-score: 0.9513\n",
            "\n",
            "Epoch 15/25\n",
            "------------------------------\n",
            "Train - Loss: 0.3329, Accuracy: 0.9388, Precision: 0.9363, Recall: 0.9280, F1-score: 0.9312\n",
            "Val - Loss: 0.1766, Accuracy: 0.9694, Precision: 0.9594, Recall: 0.9636, F1-score: 0.9565\n",
            "\n",
            "Epoch 16/25\n",
            "------------------------------\n",
            "Train - Loss: 0.3495, Accuracy: 0.9393, Precision: 0.9390, Recall: 0.9307, F1-score: 0.9339\n",
            "Val - Loss: 0.1809, Accuracy: 0.9731, Precision: 0.9656, Recall: 0.9727, F1-score: 0.9661\n",
            "\n",
            "Epoch 17/25\n",
            "------------------------------\n",
            "Train - Loss: 0.3405, Accuracy: 0.9377, Precision: 0.9359, Recall: 0.9281, F1-score: 0.9311\n",
            "Val - Loss: 0.1792, Accuracy: 0.9694, Precision: 0.9593, Recall: 0.9641, F1-score: 0.9572\n",
            "\n",
            "Epoch 18/25\n",
            "------------------------------\n",
            "Train - Loss: 0.3389, Accuracy: 0.9418, Precision: 0.9427, Recall: 0.9350, F1-score: 0.9381\n",
            "Val - Loss: 0.1814, Accuracy: 0.9682, Precision: 0.9589, Recall: 0.9657, F1-score: 0.9567\n",
            "\n",
            "Epoch 19/25\n",
            "------------------------------\n",
            "Train - Loss: 0.3437, Accuracy: 0.9396, Precision: 0.9394, Recall: 0.9329, F1-score: 0.9352\n",
            "Val - Loss: 0.1787, Accuracy: 0.9694, Precision: 0.9642, Recall: 0.9657, F1-score: 0.9600\n",
            "\n",
            "Epoch 20/25\n",
            "------------------------------\n",
            "Train - Loss: 0.3369, Accuracy: 0.9409, Precision: 0.9435, Recall: 0.9331, F1-score: 0.9373\n",
            "Val - Loss: 0.1751, Accuracy: 0.9658, Precision: 0.9538, Recall: 0.9600, F1-score: 0.9494\n",
            "\n",
            "Epoch 21/25\n",
            "------------------------------\n",
            "Train - Loss: 0.3531, Accuracy: 0.9362, Precision: 0.9359, Recall: 0.9276, F1-score: 0.9306\n",
            "Val - Loss: 0.1790, Accuracy: 0.9707, Precision: 0.9619, Recall: 0.9695, F1-score: 0.9617\n",
            "\n",
            "Epoch 22/25\n",
            "------------------------------\n",
            "Train - Loss: 0.3296, Accuracy: 0.9443, Precision: 0.9452, Recall: 0.9368, F1-score: 0.9402\n",
            "Val - Loss: 0.1796, Accuracy: 0.9707, Precision: 0.9556, Recall: 0.9675, F1-score: 0.9560\n",
            "\n",
            "Epoch 23/25\n",
            "------------------------------\n",
            "Train - Loss: 0.3478, Accuracy: 0.9362, Precision: 0.9362, Recall: 0.9275, F1-score: 0.9309\n",
            "Val - Loss: 0.1800, Accuracy: 0.9719, Precision: 0.9632, Recall: 0.9705, F1-score: 0.9625\n",
            "\n",
            "Epoch 24/25\n",
            "------------------------------\n",
            "Train - Loss: 0.3396, Accuracy: 0.9415, Precision: 0.9430, Recall: 0.9335, F1-score: 0.9375\n",
            "Val - Loss: 0.1810, Accuracy: 0.9707, Precision: 0.9645, Recall: 0.9663, F1-score: 0.9602\n",
            "\n",
            "Epoch 25/25\n",
            "------------------------------\n",
            "Train - Loss: 0.3427, Accuracy: 0.9379, Precision: 0.9381, Recall: 0.9318, F1-score: 0.9340\n",
            "Val - Loss: 0.1791, Accuracy: 0.9694, Precision: 0.9587, Recall: 0.9628, F1-score: 0.9538\n"
          ]
        }
      ]
    },
    {
      "cell_type": "code",
      "source": [
        "results_df = pd.DataFrame({\n",
        "    'Epoch': range(1, len(train_loss) + 1),\n",
        "    'Training Loss': train_loss,\n",
        "    'Validation Loss': val_loss,\n",
        "    'Training Accuracy': train_acc,\n",
        "    'Validation Accuracy': val_acc,\n",
        "    'Training Precision': train_precision,\n",
        "    'Training Recall': train_recall,\n",
        "    'Training F1-score': train_f1,\n",
        "    'Validation Precision': val_precision,\n",
        "    'Validation Recall': val_recall,\n",
        "    'Validation F1-score': val_f1\n",
        "})\n",
        "\n",
        "# Save DataFrame to CSV\n",
        "results_df.to_csv('training_results_with_metrics.csv', index=False)\n",
        "print(\"Training results with precision, recall, and F1-score saved to training_results_with_metrics.csv\")\n"
      ],
      "metadata": {
        "colab": {
          "base_uri": "https://localhost:8080/"
        },
        "id": "KoZrRoHbIMRb",
        "outputId": "3f5b895e-5f13-466e-da67-ab91fecf53e2"
      },
      "execution_count": 32,
      "outputs": [
        {
          "output_type": "stream",
          "name": "stdout",
          "text": [
            "Training results with precision, recall, and F1-score saved to training_results_with_metrics.csv\n"
          ]
        }
      ]
    },
    {
      "cell_type": "code",
      "source": [
        "print(f\"  Training   - Loss: {train_loss[epoch]:.4f}, Accuracy: {train_acc[epoch]:.4f}\")\n",
        "print(f\"  Validation - Loss: {val_loss[epoch]:.4f}, Accuracy: {val_acc[epoch]:.4f}\")\n",
        "print(f\"  Training Precision: {val_loss[epoch]:.4f}, Accuracy: {train_precision[epoch]:.4f}\")\n",
        "print(f\"  Training Recall: {val_loss[epoch]:.4f}, Accuracy: {train_recall[epoch]:.4f}\")\n",
        "print(f\"  Validation Precision: {val_loss[epoch]:.4f}, Accuracy: {val_precision[epoch]:.4f}\")\n",
        "print(f\"  Validation Recall: {val_loss[epoch]:.4f}, Accuracy: {val_recall[epoch]:.4f}\")\n",
        "print(f\"  Training F1-score: {val_loss[epoch]:.4f}, Accuracy: {train_f1[epoch]:.4f}\")\n",
        "print(f\"  Validation F1-score: {val_loss[epoch]:.4f}, Accuracy: {val_f1[epoch]:.4f}\")"
      ],
      "metadata": {
        "colab": {
          "base_uri": "https://localhost:8080/"
        },
        "id": "0QhVWiMlQ3wo",
        "outputId": "933317fd-b14b-4045-bdd7-d09e60a97a04"
      },
      "execution_count": 40,
      "outputs": [
        {
          "output_type": "stream",
          "name": "stdout",
          "text": [
            "  Training   - Loss: 0.3427, Accuracy: 0.9379\n",
            "  Validation - Loss: 0.1791, Accuracy: 0.9694\n",
            "  Training Precision: 0.1791, Accuracy: 0.9381\n",
            "  Training Recall: 0.1791, Accuracy: 0.9318\n",
            "  Validation Precision: 0.1791, Accuracy: 0.9587\n",
            "  Validation Recall: 0.1791, Accuracy: 0.9628\n",
            "  Training F1-score: 0.1791, Accuracy: 0.9340\n",
            "  Validation F1-score: 0.1791, Accuracy: 0.9538\n"
          ]
        }
      ]
    }
  ]
}